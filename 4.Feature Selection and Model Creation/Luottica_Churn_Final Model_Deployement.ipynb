{
 "cells": [
  {
   "cell_type": "code",
   "execution_count": 1,
   "id": "dd2f43fd",
   "metadata": {},
   "outputs": [],
   "source": [
    "# Import necessary libraries\n",
    "import pandas as pd\n",
    "from sklearn.feature_selection import SelectKBest, chi2\n",
    "from sklearn.model_selection import train_test_split\n",
    "from imblearn.over_sampling import SMOTE\n",
    "from sklearn.preprocessing import MinMaxScaler\n",
    "from sklearn.ensemble import RandomForestClassifier\n",
    "from sklearn.metrics import confusion_matrix, accuracy_score, classification_report\n",
    "import pickle\n",
    "import matplotlib.pyplot as plt"
   ]
  },
  {
   "cell_type": "code",
   "execution_count": 2,
   "id": "d7b2166c",
   "metadata": {},
   "outputs": [],
   "source": [
    "# Load the dataset\n",
    "dataset = pd.read_csv(\"cleaned_df_luxottica_churn_updated_0108.csv\", index_col=None)"
   ]
  },
  {
   "cell_type": "code",
   "execution_count": 3,
   "id": "d8d32a64",
   "metadata": {},
   "outputs": [],
   "source": [
    "# Create a copy of the dataset for transformation\n",
    "dataset_transformed = pd.get_dummies(dataset, drop_first=True)"
   ]
  },
  {
   "cell_type": "code",
   "execution_count": 4,
   "id": "87f1ac89",
   "metadata": {},
   "outputs": [],
   "source": [
    "# Separate features and target variable\n",
    "X = dataset_transformed.drop('Churn_Yes', axis=1)\n",
    "y = dataset_transformed['Churn_Yes']"
   ]
  },
  {
   "cell_type": "code",
   "execution_count": 5,
   "id": "ff22e0c3",
   "metadata": {},
   "outputs": [],
   "source": [
    "# Apply Min-Max scaling to ensure non-negative values\n",
    "min_max_scaler = MinMaxScaler()\n",
    "X_scaled = min_max_scaler.fit_transform(X)"
   ]
  },
  {
   "cell_type": "code",
   "execution_count": 6,
   "id": "c8931d1f",
   "metadata": {},
   "outputs": [],
   "source": [
    "# Initialize lists to store results\n",
    "num_features = list(range(1, 15)) \n",
    "accuracies = []\n"
   ]
  },
  {
   "cell_type": "code",
   "execution_count": 7,
   "id": "a021664d",
   "metadata": {},
   "outputs": [],
   "source": [
    "# Loop through different numbers of features\n",
    "for k in num_features:\n",
    "    # Select top k features using Chi-Square\n",
    "    select_k_best = SelectKBest(score_func=chi2, k=k)\n",
    "    X_selected = select_k_best.fit_transform(X_scaled, y)"
   ]
  },
  {
   "cell_type": "code",
   "execution_count": 8,
   "id": "f304e56e",
   "metadata": {},
   "outputs": [],
   "source": [
    "# Get the selected feature indices and names\n",
    "selected_features_indices = select_k_best.get_support(indices=True)\n",
    "selected_features = X.columns[selected_features_indices]"
   ]
  },
  {
   "cell_type": "code",
   "execution_count": 9,
   "id": "25452f53",
   "metadata": {},
   "outputs": [],
   "source": [
    "# Create the final feature dataset with selected features\n",
    "    \n",
    "X_final_selected = X[selected_features]"
   ]
  },
  {
   "cell_type": "code",
   "execution_count": 10,
   "id": "804569b8",
   "metadata": {},
   "outputs": [
    {
     "data": {
      "text/html": [
       "<div>\n",
       "<style scoped>\n",
       "    .dataframe tbody tr th:only-of-type {\n",
       "        vertical-align: middle;\n",
       "    }\n",
       "\n",
       "    .dataframe tbody tr th {\n",
       "        vertical-align: top;\n",
       "    }\n",
       "\n",
       "    .dataframe thead th {\n",
       "        text-align: right;\n",
       "    }\n",
       "</style>\n",
       "<table border=\"1\" class=\"dataframe\">\n",
       "  <thead>\n",
       "    <tr style=\"text-align: right;\">\n",
       "      <th></th>\n",
       "      <th>Age</th>\n",
       "      <th>Price</th>\n",
       "      <th>Customer_Support_Interactions</th>\n",
       "      <th>Customer_Satisfaction</th>\n",
       "      <th>Purchase_Frequency</th>\n",
       "      <th>Lifetime_Value</th>\n",
       "      <th>Average_Order_Value</th>\n",
       "      <th>Number_of_Product_Categories_Purchased</th>\n",
       "      <th>Date_of_First_Purchase_2016-11-02</th>\n",
       "      <th>Date_of_First_Purchase_2020-10-09</th>\n",
       "      <th>Last_Purchase_Date_2022-07-13</th>\n",
       "      <th>Loyalty_Program_Participation_Inactive</th>\n",
       "      <th>Engagement_with_Promotions_Low</th>\n",
       "      <th>Engagement_with_Promotions_Medium</th>\n",
       "    </tr>\n",
       "  </thead>\n",
       "  <tbody>\n",
       "    <tr>\n",
       "      <th>0</th>\n",
       "      <td>62.0</td>\n",
       "      <td>214.690000</td>\n",
       "      <td>8.0</td>\n",
       "      <td>4.590000</td>\n",
       "      <td>10.0</td>\n",
       "      <td>1738.968150</td>\n",
       "      <td>233.902744</td>\n",
       "      <td>3.0</td>\n",
       "      <td>0</td>\n",
       "      <td>0</td>\n",
       "      <td>0</td>\n",
       "      <td>0</td>\n",
       "      <td>0</td>\n",
       "      <td>0</td>\n",
       "    </tr>\n",
       "    <tr>\n",
       "      <th>1</th>\n",
       "      <td>21.0</td>\n",
       "      <td>314.772739</td>\n",
       "      <td>2.0</td>\n",
       "      <td>5.853082</td>\n",
       "      <td>4.0</td>\n",
       "      <td>9799.820000</td>\n",
       "      <td>833.200000</td>\n",
       "      <td>2.0</td>\n",
       "      <td>0</td>\n",
       "      <td>0</td>\n",
       "      <td>0</td>\n",
       "      <td>1</td>\n",
       "      <td>1</td>\n",
       "      <td>0</td>\n",
       "    </tr>\n",
       "    <tr>\n",
       "      <th>2</th>\n",
       "      <td>28.0</td>\n",
       "      <td>232.969400</td>\n",
       "      <td>9.0</td>\n",
       "      <td>1.131831</td>\n",
       "      <td>4.0</td>\n",
       "      <td>7027.470000</td>\n",
       "      <td>727.390000</td>\n",
       "      <td>1.0</td>\n",
       "      <td>0</td>\n",
       "      <td>0</td>\n",
       "      <td>0</td>\n",
       "      <td>1</td>\n",
       "      <td>1</td>\n",
       "      <td>0</td>\n",
       "    </tr>\n",
       "    <tr>\n",
       "      <th>3</th>\n",
       "      <td>21.0</td>\n",
       "      <td>457.880000</td>\n",
       "      <td>4.0</td>\n",
       "      <td>9.570000</td>\n",
       "      <td>13.0</td>\n",
       "      <td>6900.180000</td>\n",
       "      <td>772.635501</td>\n",
       "      <td>2.0</td>\n",
       "      <td>0</td>\n",
       "      <td>0</td>\n",
       "      <td>0</td>\n",
       "      <td>0</td>\n",
       "      <td>1</td>\n",
       "      <td>0</td>\n",
       "    </tr>\n",
       "    <tr>\n",
       "      <th>4</th>\n",
       "      <td>57.0</td>\n",
       "      <td>745.030000</td>\n",
       "      <td>5.0</td>\n",
       "      <td>6.570000</td>\n",
       "      <td>18.0</td>\n",
       "      <td>10923.306090</td>\n",
       "      <td>465.561789</td>\n",
       "      <td>2.0</td>\n",
       "      <td>0</td>\n",
       "      <td>0</td>\n",
       "      <td>0</td>\n",
       "      <td>1</td>\n",
       "      <td>0</td>\n",
       "      <td>0</td>\n",
       "    </tr>\n",
       "    <tr>\n",
       "      <th>...</th>\n",
       "      <td>...</td>\n",
       "      <td>...</td>\n",
       "      <td>...</td>\n",
       "      <td>...</td>\n",
       "      <td>...</td>\n",
       "      <td>...</td>\n",
       "      <td>...</td>\n",
       "      <td>...</td>\n",
       "      <td>...</td>\n",
       "      <td>...</td>\n",
       "      <td>...</td>\n",
       "      <td>...</td>\n",
       "      <td>...</td>\n",
       "      <td>...</td>\n",
       "    </tr>\n",
       "    <tr>\n",
       "      <th>95097</th>\n",
       "      <td>41.0</td>\n",
       "      <td>230.500000</td>\n",
       "      <td>8.0</td>\n",
       "      <td>8.225604</td>\n",
       "      <td>4.0</td>\n",
       "      <td>9446.040000</td>\n",
       "      <td>255.330000</td>\n",
       "      <td>2.0</td>\n",
       "      <td>0</td>\n",
       "      <td>0</td>\n",
       "      <td>0</td>\n",
       "      <td>1</td>\n",
       "      <td>1</td>\n",
       "      <td>0</td>\n",
       "    </tr>\n",
       "    <tr>\n",
       "      <th>95098</th>\n",
       "      <td>56.0</td>\n",
       "      <td>398.070000</td>\n",
       "      <td>9.0</td>\n",
       "      <td>6.110000</td>\n",
       "      <td>10.0</td>\n",
       "      <td>11065.039920</td>\n",
       "      <td>314.938230</td>\n",
       "      <td>3.0</td>\n",
       "      <td>0</td>\n",
       "      <td>0</td>\n",
       "      <td>0</td>\n",
       "      <td>0</td>\n",
       "      <td>0</td>\n",
       "      <td>1</td>\n",
       "    </tr>\n",
       "    <tr>\n",
       "      <th>95099</th>\n",
       "      <td>31.0</td>\n",
       "      <td>526.098494</td>\n",
       "      <td>7.0</td>\n",
       "      <td>8.148891</td>\n",
       "      <td>4.0</td>\n",
       "      <td>6468.370000</td>\n",
       "      <td>239.310000</td>\n",
       "      <td>2.0</td>\n",
       "      <td>0</td>\n",
       "      <td>0</td>\n",
       "      <td>0</td>\n",
       "      <td>1</td>\n",
       "      <td>1</td>\n",
       "      <td>0</td>\n",
       "    </tr>\n",
       "    <tr>\n",
       "      <th>95100</th>\n",
       "      <td>26.0</td>\n",
       "      <td>248.540000</td>\n",
       "      <td>9.0</td>\n",
       "      <td>3.470000</td>\n",
       "      <td>16.0</td>\n",
       "      <td>2136.218717</td>\n",
       "      <td>685.872736</td>\n",
       "      <td>3.0</td>\n",
       "      <td>0</td>\n",
       "      <td>0</td>\n",
       "      <td>0</td>\n",
       "      <td>0</td>\n",
       "      <td>1</td>\n",
       "      <td>0</td>\n",
       "    </tr>\n",
       "    <tr>\n",
       "      <th>95101</th>\n",
       "      <td>68.0</td>\n",
       "      <td>375.930000</td>\n",
       "      <td>3.0</td>\n",
       "      <td>3.920000</td>\n",
       "      <td>5.0</td>\n",
       "      <td>10618.669180</td>\n",
       "      <td>239.310000</td>\n",
       "      <td>2.0</td>\n",
       "      <td>0</td>\n",
       "      <td>0</td>\n",
       "      <td>0</td>\n",
       "      <td>1</td>\n",
       "      <td>1</td>\n",
       "      <td>0</td>\n",
       "    </tr>\n",
       "  </tbody>\n",
       "</table>\n",
       "<p>95102 rows × 14 columns</p>\n",
       "</div>"
      ],
      "text/plain": [
       "        Age       Price  Customer_Support_Interactions  Customer_Satisfaction  \\\n",
       "0      62.0  214.690000                            8.0               4.590000   \n",
       "1      21.0  314.772739                            2.0               5.853082   \n",
       "2      28.0  232.969400                            9.0               1.131831   \n",
       "3      21.0  457.880000                            4.0               9.570000   \n",
       "4      57.0  745.030000                            5.0               6.570000   \n",
       "...     ...         ...                            ...                    ...   \n",
       "95097  41.0  230.500000                            8.0               8.225604   \n",
       "95098  56.0  398.070000                            9.0               6.110000   \n",
       "95099  31.0  526.098494                            7.0               8.148891   \n",
       "95100  26.0  248.540000                            9.0               3.470000   \n",
       "95101  68.0  375.930000                            3.0               3.920000   \n",
       "\n",
       "       Purchase_Frequency  Lifetime_Value  Average_Order_Value  \\\n",
       "0                    10.0     1738.968150           233.902744   \n",
       "1                     4.0     9799.820000           833.200000   \n",
       "2                     4.0     7027.470000           727.390000   \n",
       "3                    13.0     6900.180000           772.635501   \n",
       "4                    18.0    10923.306090           465.561789   \n",
       "...                   ...             ...                  ...   \n",
       "95097                 4.0     9446.040000           255.330000   \n",
       "95098                10.0    11065.039920           314.938230   \n",
       "95099                 4.0     6468.370000           239.310000   \n",
       "95100                16.0     2136.218717           685.872736   \n",
       "95101                 5.0    10618.669180           239.310000   \n",
       "\n",
       "       Number_of_Product_Categories_Purchased  \\\n",
       "0                                         3.0   \n",
       "1                                         2.0   \n",
       "2                                         1.0   \n",
       "3                                         2.0   \n",
       "4                                         2.0   \n",
       "...                                       ...   \n",
       "95097                                     2.0   \n",
       "95098                                     3.0   \n",
       "95099                                     2.0   \n",
       "95100                                     3.0   \n",
       "95101                                     2.0   \n",
       "\n",
       "       Date_of_First_Purchase_2016-11-02  Date_of_First_Purchase_2020-10-09  \\\n",
       "0                                      0                                  0   \n",
       "1                                      0                                  0   \n",
       "2                                      0                                  0   \n",
       "3                                      0                                  0   \n",
       "4                                      0                                  0   \n",
       "...                                  ...                                ...   \n",
       "95097                                  0                                  0   \n",
       "95098                                  0                                  0   \n",
       "95099                                  0                                  0   \n",
       "95100                                  0                                  0   \n",
       "95101                                  0                                  0   \n",
       "\n",
       "       Last_Purchase_Date_2022-07-13  Loyalty_Program_Participation_Inactive  \\\n",
       "0                                  0                                       0   \n",
       "1                                  0                                       1   \n",
       "2                                  0                                       1   \n",
       "3                                  0                                       0   \n",
       "4                                  0                                       1   \n",
       "...                              ...                                     ...   \n",
       "95097                              0                                       1   \n",
       "95098                              0                                       0   \n",
       "95099                              0                                       1   \n",
       "95100                              0                                       0   \n",
       "95101                              0                                       1   \n",
       "\n",
       "       Engagement_with_Promotions_Low  Engagement_with_Promotions_Medium  \n",
       "0                                   0                                  0  \n",
       "1                                   1                                  0  \n",
       "2                                   1                                  0  \n",
       "3                                   1                                  0  \n",
       "4                                   0                                  0  \n",
       "...                               ...                                ...  \n",
       "95097                               1                                  0  \n",
       "95098                               0                                  1  \n",
       "95099                               1                                  0  \n",
       "95100                               1                                  0  \n",
       "95101                               1                                  0  \n",
       "\n",
       "[95102 rows x 14 columns]"
      ]
     },
     "execution_count": 10,
     "metadata": {},
     "output_type": "execute_result"
    }
   ],
   "source": [
    "X_final_selected"
   ]
  },
  {
   "cell_type": "code",
   "execution_count": 12,
   "id": "84ef612d",
   "metadata": {},
   "outputs": [],
   "source": [
    "# Apply Min-Max scaling to the selected features\n",
    "X_scaled_selected = min_max_scaler.fit_transform(X_final_selected)"
   ]
  },
  {
   "cell_type": "code",
   "execution_count": 13,
   "id": "f885641a",
   "metadata": {},
   "outputs": [],
   "source": [
    "# Split the dataset into training and testing sets\n",
    "X_train, X_test, y_train, y_test = train_test_split(X_scaled_selected, y, test_size=0.25, random_state=0)"
   ]
  },
  {
   "cell_type": "code",
   "execution_count": 14,
   "id": "4fdd1724",
   "metadata": {},
   "outputs": [],
   "source": [
    "# Apply SMOTE to the training data only\n",
    "smote = SMOTE(random_state=0)\n",
    "X_train_resampled, y_train_resampled = smote.fit_resample(X_train, y_train)"
   ]
  },
  {
   "cell_type": "code",
   "execution_count": 15,
   "id": "ce6134f0",
   "metadata": {},
   "outputs": [
    {
     "data": {
      "text/html": [
       "<style>#sk-container-id-1 {color: black;}#sk-container-id-1 pre{padding: 0;}#sk-container-id-1 div.sk-toggleable {background-color: white;}#sk-container-id-1 label.sk-toggleable__label {cursor: pointer;display: block;width: 100%;margin-bottom: 0;padding: 0.3em;box-sizing: border-box;text-align: center;}#sk-container-id-1 label.sk-toggleable__label-arrow:before {content: \"▸\";float: left;margin-right: 0.25em;color: #696969;}#sk-container-id-1 label.sk-toggleable__label-arrow:hover:before {color: black;}#sk-container-id-1 div.sk-estimator:hover label.sk-toggleable__label-arrow:before {color: black;}#sk-container-id-1 div.sk-toggleable__content {max-height: 0;max-width: 0;overflow: hidden;text-align: left;background-color: #f0f8ff;}#sk-container-id-1 div.sk-toggleable__content pre {margin: 0.2em;color: black;border-radius: 0.25em;background-color: #f0f8ff;}#sk-container-id-1 input.sk-toggleable__control:checked~div.sk-toggleable__content {max-height: 200px;max-width: 100%;overflow: auto;}#sk-container-id-1 input.sk-toggleable__control:checked~label.sk-toggleable__label-arrow:before {content: \"▾\";}#sk-container-id-1 div.sk-estimator input.sk-toggleable__control:checked~label.sk-toggleable__label {background-color: #d4ebff;}#sk-container-id-1 div.sk-label input.sk-toggleable__control:checked~label.sk-toggleable__label {background-color: #d4ebff;}#sk-container-id-1 input.sk-hidden--visually {border: 0;clip: rect(1px 1px 1px 1px);clip: rect(1px, 1px, 1px, 1px);height: 1px;margin: -1px;overflow: hidden;padding: 0;position: absolute;width: 1px;}#sk-container-id-1 div.sk-estimator {font-family: monospace;background-color: #f0f8ff;border: 1px dotted black;border-radius: 0.25em;box-sizing: border-box;margin-bottom: 0.5em;}#sk-container-id-1 div.sk-estimator:hover {background-color: #d4ebff;}#sk-container-id-1 div.sk-parallel-item::after {content: \"\";width: 100%;border-bottom: 1px solid gray;flex-grow: 1;}#sk-container-id-1 div.sk-label:hover label.sk-toggleable__label {background-color: #d4ebff;}#sk-container-id-1 div.sk-serial::before {content: \"\";position: absolute;border-left: 1px solid gray;box-sizing: border-box;top: 0;bottom: 0;left: 50%;z-index: 0;}#sk-container-id-1 div.sk-serial {display: flex;flex-direction: column;align-items: center;background-color: white;padding-right: 0.2em;padding-left: 0.2em;position: relative;}#sk-container-id-1 div.sk-item {position: relative;z-index: 1;}#sk-container-id-1 div.sk-parallel {display: flex;align-items: stretch;justify-content: center;background-color: white;position: relative;}#sk-container-id-1 div.sk-item::before, #sk-container-id-1 div.sk-parallel-item::before {content: \"\";position: absolute;border-left: 1px solid gray;box-sizing: border-box;top: 0;bottom: 0;left: 50%;z-index: -1;}#sk-container-id-1 div.sk-parallel-item {display: flex;flex-direction: column;z-index: 1;position: relative;background-color: white;}#sk-container-id-1 div.sk-parallel-item:first-child::after {align-self: flex-end;width: 50%;}#sk-container-id-1 div.sk-parallel-item:last-child::after {align-self: flex-start;width: 50%;}#sk-container-id-1 div.sk-parallel-item:only-child::after {width: 0;}#sk-container-id-1 div.sk-dashed-wrapped {border: 1px dashed gray;margin: 0 0.4em 0.5em 0.4em;box-sizing: border-box;padding-bottom: 0.4em;background-color: white;}#sk-container-id-1 div.sk-label label {font-family: monospace;font-weight: bold;display: inline-block;line-height: 1.2em;}#sk-container-id-1 div.sk-label-container {text-align: center;}#sk-container-id-1 div.sk-container {/* jupyter's `normalize.less` sets `[hidden] { display: none; }` but bootstrap.min.css set `[hidden] { display: none !important; }` so we also need the `!important` here to be able to override the default hidden behavior on the sphinx rendered scikit-learn.org. See: https://github.com/scikit-learn/scikit-learn/issues/21755 */display: inline-block !important;position: relative;}#sk-container-id-1 div.sk-text-repr-fallback {display: none;}</style><div id=\"sk-container-id-1\" class=\"sk-top-container\"><div class=\"sk-text-repr-fallback\"><pre>RandomForestClassifier(random_state=0)</pre><b>In a Jupyter environment, please rerun this cell to show the HTML representation or trust the notebook. <br />On GitHub, the HTML representation is unable to render, please try loading this page with nbviewer.org.</b></div><div class=\"sk-container\" hidden><div class=\"sk-item\"><div class=\"sk-estimator sk-toggleable\"><input class=\"sk-toggleable__control sk-hidden--visually\" id=\"sk-estimator-id-1\" type=\"checkbox\" checked><label for=\"sk-estimator-id-1\" class=\"sk-toggleable__label sk-toggleable__label-arrow\">RandomForestClassifier</label><div class=\"sk-toggleable__content\"><pre>RandomForestClassifier(random_state=0)</pre></div></div></div></div></div>"
      ],
      "text/plain": [
       "RandomForestClassifier(random_state=0)"
      ]
     },
     "execution_count": 15,
     "metadata": {},
     "output_type": "execute_result"
    }
   ],
   "source": [
    "# Initialize and train the Random Forest classifier\n",
    "classifier = RandomForestClassifier(random_state=0)\n",
    "classifier.fit(X_train_resampled, y_train_resampled)"
   ]
  },
  {
   "cell_type": "code",
   "execution_count": 16,
   "id": "6037e870",
   "metadata": {},
   "outputs": [],
   "source": [
    "# Predict the test set results\n",
    "y_pred = classifier.predict(X_test)"
   ]
  },
  {
   "cell_type": "code",
   "execution_count": 17,
   "id": "e2f9c563",
   "metadata": {},
   "outputs": [
    {
     "name": "stdout",
     "output_type": "stream",
     "text": [
      "Accuracy with top 14 features: 0.9982\n"
     ]
    }
   ],
   "source": [
    " # Evaluate the model\n",
    "accuracy = accuracy_score(y_test, y_pred)\n",
    "accuracies.append(accuracy)\n",
    "print(f'Accuracy with top {k} features: {accuracy:.4f}')"
   ]
  },
  {
   "cell_type": "code",
   "execution_count": 18,
   "id": "f0c1b89b",
   "metadata": {},
   "outputs": [
    {
     "ename": "ValueError",
     "evalue": "x and y must have same first dimension, but have shapes (14,) and (1,)",
     "output_type": "error",
     "traceback": [
      "\u001b[1;31m---------------------------------------------------------------------------\u001b[0m",
      "\u001b[1;31mValueError\u001b[0m                                Traceback (most recent call last)",
      "\u001b[1;32m~\\AppData\\Local\\Temp\\ipykernel_9824\\709209863.py\u001b[0m in \u001b[0;36m<module>\u001b[1;34m\u001b[0m\n\u001b[0;32m      1\u001b[0m \u001b[1;31m# Plot the results to visualize the accuracy for different numbers of features\u001b[0m\u001b[1;33m\u001b[0m\u001b[1;33m\u001b[0m\u001b[0m\n\u001b[0;32m      2\u001b[0m \u001b[0mplt\u001b[0m\u001b[1;33m.\u001b[0m\u001b[0mfigure\u001b[0m\u001b[1;33m(\u001b[0m\u001b[0mfigsize\u001b[0m\u001b[1;33m=\u001b[0m\u001b[1;33m(\u001b[0m\u001b[1;36m10\u001b[0m\u001b[1;33m,\u001b[0m \u001b[1;36m6\u001b[0m\u001b[1;33m)\u001b[0m\u001b[1;33m)\u001b[0m\u001b[1;33m\u001b[0m\u001b[1;33m\u001b[0m\u001b[0m\n\u001b[1;32m----> 3\u001b[1;33m \u001b[0mplt\u001b[0m\u001b[1;33m.\u001b[0m\u001b[0mplot\u001b[0m\u001b[1;33m(\u001b[0m\u001b[0mnum_features\u001b[0m\u001b[1;33m,\u001b[0m \u001b[0maccuracies\u001b[0m\u001b[1;33m,\u001b[0m \u001b[0mmarker\u001b[0m\u001b[1;33m=\u001b[0m\u001b[1;34m'o'\u001b[0m\u001b[1;33m)\u001b[0m\u001b[1;33m\u001b[0m\u001b[1;33m\u001b[0m\u001b[0m\n\u001b[0m\u001b[0;32m      4\u001b[0m \u001b[0mplt\u001b[0m\u001b[1;33m.\u001b[0m\u001b[0mtitle\u001b[0m\u001b[1;33m(\u001b[0m\u001b[1;34m'Accuracy vs. Number of Features Selected'\u001b[0m\u001b[1;33m)\u001b[0m\u001b[1;33m\u001b[0m\u001b[1;33m\u001b[0m\u001b[0m\n\u001b[0;32m      5\u001b[0m \u001b[0mplt\u001b[0m\u001b[1;33m.\u001b[0m\u001b[0mxlabel\u001b[0m\u001b[1;33m(\u001b[0m\u001b[1;34m'Number of Features'\u001b[0m\u001b[1;33m)\u001b[0m\u001b[1;33m\u001b[0m\u001b[1;33m\u001b[0m\u001b[0m\n",
      "\u001b[1;32m~\\anaconda3\\lib\\site-packages\\matplotlib\\pyplot.py\u001b[0m in \u001b[0;36mplot\u001b[1;34m(scalex, scaley, data, *args, **kwargs)\u001b[0m\n\u001b[0;32m   2767\u001b[0m \u001b[1;33m@\u001b[0m\u001b[0m_copy_docstring_and_deprecators\u001b[0m\u001b[1;33m(\u001b[0m\u001b[0mAxes\u001b[0m\u001b[1;33m.\u001b[0m\u001b[0mplot\u001b[0m\u001b[1;33m)\u001b[0m\u001b[1;33m\u001b[0m\u001b[1;33m\u001b[0m\u001b[0m\n\u001b[0;32m   2768\u001b[0m \u001b[1;32mdef\u001b[0m \u001b[0mplot\u001b[0m\u001b[1;33m(\u001b[0m\u001b[1;33m*\u001b[0m\u001b[0margs\u001b[0m\u001b[1;33m,\u001b[0m \u001b[0mscalex\u001b[0m\u001b[1;33m=\u001b[0m\u001b[1;32mTrue\u001b[0m\u001b[1;33m,\u001b[0m \u001b[0mscaley\u001b[0m\u001b[1;33m=\u001b[0m\u001b[1;32mTrue\u001b[0m\u001b[1;33m,\u001b[0m \u001b[0mdata\u001b[0m\u001b[1;33m=\u001b[0m\u001b[1;32mNone\u001b[0m\u001b[1;33m,\u001b[0m \u001b[1;33m**\u001b[0m\u001b[0mkwargs\u001b[0m\u001b[1;33m)\u001b[0m\u001b[1;33m:\u001b[0m\u001b[1;33m\u001b[0m\u001b[1;33m\u001b[0m\u001b[0m\n\u001b[1;32m-> 2769\u001b[1;33m     return gca().plot(\n\u001b[0m\u001b[0;32m   2770\u001b[0m         \u001b[1;33m*\u001b[0m\u001b[0margs\u001b[0m\u001b[1;33m,\u001b[0m \u001b[0mscalex\u001b[0m\u001b[1;33m=\u001b[0m\u001b[0mscalex\u001b[0m\u001b[1;33m,\u001b[0m \u001b[0mscaley\u001b[0m\u001b[1;33m=\u001b[0m\u001b[0mscaley\u001b[0m\u001b[1;33m,\u001b[0m\u001b[1;33m\u001b[0m\u001b[1;33m\u001b[0m\u001b[0m\n\u001b[0;32m   2771\u001b[0m         **({\"data\": data} if data is not None else {}), **kwargs)\n",
      "\u001b[1;32m~\\anaconda3\\lib\\site-packages\\matplotlib\\axes\\_axes.py\u001b[0m in \u001b[0;36mplot\u001b[1;34m(self, scalex, scaley, data, *args, **kwargs)\u001b[0m\n\u001b[0;32m   1630\u001b[0m         \"\"\"\n\u001b[0;32m   1631\u001b[0m         \u001b[0mkwargs\u001b[0m \u001b[1;33m=\u001b[0m \u001b[0mcbook\u001b[0m\u001b[1;33m.\u001b[0m\u001b[0mnormalize_kwargs\u001b[0m\u001b[1;33m(\u001b[0m\u001b[0mkwargs\u001b[0m\u001b[1;33m,\u001b[0m \u001b[0mmlines\u001b[0m\u001b[1;33m.\u001b[0m\u001b[0mLine2D\u001b[0m\u001b[1;33m)\u001b[0m\u001b[1;33m\u001b[0m\u001b[1;33m\u001b[0m\u001b[0m\n\u001b[1;32m-> 1632\u001b[1;33m         \u001b[0mlines\u001b[0m \u001b[1;33m=\u001b[0m \u001b[1;33m[\u001b[0m\u001b[1;33m*\u001b[0m\u001b[0mself\u001b[0m\u001b[1;33m.\u001b[0m\u001b[0m_get_lines\u001b[0m\u001b[1;33m(\u001b[0m\u001b[1;33m*\u001b[0m\u001b[0margs\u001b[0m\u001b[1;33m,\u001b[0m \u001b[0mdata\u001b[0m\u001b[1;33m=\u001b[0m\u001b[0mdata\u001b[0m\u001b[1;33m,\u001b[0m \u001b[1;33m**\u001b[0m\u001b[0mkwargs\u001b[0m\u001b[1;33m)\u001b[0m\u001b[1;33m]\u001b[0m\u001b[1;33m\u001b[0m\u001b[1;33m\u001b[0m\u001b[0m\n\u001b[0m\u001b[0;32m   1633\u001b[0m         \u001b[1;32mfor\u001b[0m \u001b[0mline\u001b[0m \u001b[1;32min\u001b[0m \u001b[0mlines\u001b[0m\u001b[1;33m:\u001b[0m\u001b[1;33m\u001b[0m\u001b[1;33m\u001b[0m\u001b[0m\n\u001b[0;32m   1634\u001b[0m             \u001b[0mself\u001b[0m\u001b[1;33m.\u001b[0m\u001b[0madd_line\u001b[0m\u001b[1;33m(\u001b[0m\u001b[0mline\u001b[0m\u001b[1;33m)\u001b[0m\u001b[1;33m\u001b[0m\u001b[1;33m\u001b[0m\u001b[0m\n",
      "\u001b[1;32m~\\anaconda3\\lib\\site-packages\\matplotlib\\axes\\_base.py\u001b[0m in \u001b[0;36m__call__\u001b[1;34m(self, data, *args, **kwargs)\u001b[0m\n\u001b[0;32m    310\u001b[0m                 \u001b[0mthis\u001b[0m \u001b[1;33m+=\u001b[0m \u001b[0margs\u001b[0m\u001b[1;33m[\u001b[0m\u001b[1;36m0\u001b[0m\u001b[1;33m]\u001b[0m\u001b[1;33m,\u001b[0m\u001b[1;33m\u001b[0m\u001b[1;33m\u001b[0m\u001b[0m\n\u001b[0;32m    311\u001b[0m                 \u001b[0margs\u001b[0m \u001b[1;33m=\u001b[0m \u001b[0margs\u001b[0m\u001b[1;33m[\u001b[0m\u001b[1;36m1\u001b[0m\u001b[1;33m:\u001b[0m\u001b[1;33m]\u001b[0m\u001b[1;33m\u001b[0m\u001b[1;33m\u001b[0m\u001b[0m\n\u001b[1;32m--> 312\u001b[1;33m             \u001b[1;32myield\u001b[0m \u001b[1;32mfrom\u001b[0m \u001b[0mself\u001b[0m\u001b[1;33m.\u001b[0m\u001b[0m_plot_args\u001b[0m\u001b[1;33m(\u001b[0m\u001b[0mthis\u001b[0m\u001b[1;33m,\u001b[0m \u001b[0mkwargs\u001b[0m\u001b[1;33m)\u001b[0m\u001b[1;33m\u001b[0m\u001b[1;33m\u001b[0m\u001b[0m\n\u001b[0m\u001b[0;32m    313\u001b[0m \u001b[1;33m\u001b[0m\u001b[0m\n\u001b[0;32m    314\u001b[0m     \u001b[1;32mdef\u001b[0m \u001b[0mget_next_color\u001b[0m\u001b[1;33m(\u001b[0m\u001b[0mself\u001b[0m\u001b[1;33m)\u001b[0m\u001b[1;33m:\u001b[0m\u001b[1;33m\u001b[0m\u001b[1;33m\u001b[0m\u001b[0m\n",
      "\u001b[1;32m~\\anaconda3\\lib\\site-packages\\matplotlib\\axes\\_base.py\u001b[0m in \u001b[0;36m_plot_args\u001b[1;34m(self, tup, kwargs, return_kwargs)\u001b[0m\n\u001b[0;32m    496\u001b[0m \u001b[1;33m\u001b[0m\u001b[0m\n\u001b[0;32m    497\u001b[0m         \u001b[1;32mif\u001b[0m \u001b[0mx\u001b[0m\u001b[1;33m.\u001b[0m\u001b[0mshape\u001b[0m\u001b[1;33m[\u001b[0m\u001b[1;36m0\u001b[0m\u001b[1;33m]\u001b[0m \u001b[1;33m!=\u001b[0m \u001b[0my\u001b[0m\u001b[1;33m.\u001b[0m\u001b[0mshape\u001b[0m\u001b[1;33m[\u001b[0m\u001b[1;36m0\u001b[0m\u001b[1;33m]\u001b[0m\u001b[1;33m:\u001b[0m\u001b[1;33m\u001b[0m\u001b[1;33m\u001b[0m\u001b[0m\n\u001b[1;32m--> 498\u001b[1;33m             raise ValueError(f\"x and y must have same first dimension, but \"\n\u001b[0m\u001b[0;32m    499\u001b[0m                              f\"have shapes {x.shape} and {y.shape}\")\n\u001b[0;32m    500\u001b[0m         \u001b[1;32mif\u001b[0m \u001b[0mx\u001b[0m\u001b[1;33m.\u001b[0m\u001b[0mndim\u001b[0m \u001b[1;33m>\u001b[0m \u001b[1;36m2\u001b[0m \u001b[1;32mor\u001b[0m \u001b[0my\u001b[0m\u001b[1;33m.\u001b[0m\u001b[0mndim\u001b[0m \u001b[1;33m>\u001b[0m \u001b[1;36m2\u001b[0m\u001b[1;33m:\u001b[0m\u001b[1;33m\u001b[0m\u001b[1;33m\u001b[0m\u001b[0m\n",
      "\u001b[1;31mValueError\u001b[0m: x and y must have same first dimension, but have shapes (14,) and (1,)"
     ]
    },
    {
     "data": {
      "image/png": "[encoded data removed]",
      "text/plain": [
       "<Figure size 1000x600 with 1 Axes>"
      ]
     },
     "metadata": {},
     "output_type": "display_data"
    }
   ],
   "source": [
    "# Plot the results to visualize the accuracy for different numbers of features\n",
    "plt.figure(figsize=(10, 6))\n",
    "plt.plot(num_features, accuracies, marker='o')\n",
    "plt.title('Accuracy vs. Number of Features Selected')\n",
    "plt.xlabel('Number of Features')\n",
    "plt.ylabel('Accuracy')\n",
    "plt.grid(True)\n",
    "plt.show()"
   ]
  },
  {
   "cell_type": "code",
   "execution_count": 19,
   "id": "37c04645",
   "metadata": {},
   "outputs": [
    {
     "name": "stdout",
     "output_type": "stream",
     "text": [
      "Best number of features: 1\n"
     ]
    }
   ],
   "source": [
    "# Choose the best number of features based on the highest accuracy\n",
    "best_k = num_features[accuracies.index(max(accuracies))]\n",
    "print(f'Best number of features: {best_k}')"
   ]
  },
  {
   "cell_type": "code",
   "execution_count": 20,
   "id": "5110c1ea",
   "metadata": {},
   "outputs": [
    {
     "name": "stdout",
     "output_type": "stream",
     "text": [
      "Accuracy with top 1 features: 0.7373\n",
      "Accuracy with top 2 features: 0.9864\n",
      "Accuracy with top 3 features: 0.9864\n",
      "Accuracy with top 4 features: 0.9953\n",
      "Accuracy with top 5 features: 0.9974\n",
      "Accuracy with top 6 features: 0.9974\n",
      "Accuracy with top 7 features: 0.9972\n",
      "Accuracy with top 8 features: 0.9980\n",
      "Accuracy with top 9 features: 0.9981\n",
      "Accuracy with top 10 features: 0.9981\n",
      "Accuracy with top 11 features: 0.9982\n",
      "Accuracy with top 12 features: 0.9982\n",
      "Accuracy with top 13 features: 0.9982\n",
      "Accuracy with top 14 features: 0.9982\n"
     ]
    }
   ],
   "source": [
    "# Loop through different numbers of features\n",
    "for k in num_features:\n",
    "    # Select top k features using Chi-Square\n",
    "    select_k_best = SelectKBest(score_func=chi2, k=k)\n",
    "    X_selected = select_k_best.fit_transform(X_scaled, y)\n",
    "\n",
    "    # Get the selected feature indices and names\n",
    "    selected_features_indices = select_k_best.get_support(indices=True)\n",
    "    selected_features = X.columns[selected_features_indices]\n",
    "\n",
    "    # Create the final feature dataset with selected features\n",
    "    X_final_selected = X[selected_features]\n",
    "    \n",
    "    # Apply Min-Max scaling to the selected features\n",
    "    X_scaled_selected = min_max_scaler.fit_transform(X_final_selected)\n",
    "\n",
    "    # Split the dataset into training and testing sets\n",
    "    X_train, X_test, y_train, y_test = train_test_split(X_scaled_selected, y, test_size=0.25, random_state=0)\n",
    "\n",
    "    # Apply SMOTE to the training data only\n",
    "    smote = SMOTE(random_state=0)\n",
    "    X_train_resampled, y_train_resampled = smote.fit_resample(X_train, y_train)\n",
    "\n",
    "    # Initialize and train the Random Forest classifier\n",
    "    classifier = RandomForestClassifier(random_state=0)\n",
    "    classifier.fit(X_train_resampled, y_train_resampled)\n",
    "\n",
    "    # Predict the test set results\n",
    "    y_pred = classifier.predict(X_test)\n",
    "\n",
    "    # Evaluate the model\n",
    "    accuracy = accuracy_score(y_test, y_pred)\n",
    "    accuracies.append(accuracy)\n",
    "    print(f'Accuracy with top {k} features: {accuracy:.4f}')"
   ]
  },
  {
   "cell_type": "code",
   "execution_count": 22,
   "id": "8e7f19a9",
   "metadata": {},
   "outputs": [
    {
     "ename": "ValueError",
     "evalue": "x and y must have same first dimension, but have shapes (14,) and (15,)",
     "output_type": "error",
     "traceback": [
      "\u001b[1;31m---------------------------------------------------------------------------\u001b[0m",
      "\u001b[1;31mValueError\u001b[0m                                Traceback (most recent call last)",
      "\u001b[1;32m~\\AppData\\Local\\Temp\\ipykernel_9824\\3893857698.py\u001b[0m in \u001b[0;36m<module>\u001b[1;34m\u001b[0m\n\u001b[0;32m      1\u001b[0m \u001b[1;31m# Plot the results to visualize the accuracy for different numbers of features\u001b[0m\u001b[1;33m\u001b[0m\u001b[1;33m\u001b[0m\u001b[0m\n\u001b[0;32m      2\u001b[0m \u001b[0mplt\u001b[0m\u001b[1;33m.\u001b[0m\u001b[0mfigure\u001b[0m\u001b[1;33m(\u001b[0m\u001b[0mfigsize\u001b[0m\u001b[1;33m=\u001b[0m\u001b[1;33m(\u001b[0m\u001b[1;36m10\u001b[0m\u001b[1;33m,\u001b[0m \u001b[1;36m6\u001b[0m\u001b[1;33m)\u001b[0m\u001b[1;33m)\u001b[0m\u001b[1;33m\u001b[0m\u001b[1;33m\u001b[0m\u001b[0m\n\u001b[1;32m----> 3\u001b[1;33m \u001b[0mplt\u001b[0m\u001b[1;33m.\u001b[0m\u001b[0mplot\u001b[0m\u001b[1;33m(\u001b[0m\u001b[0mnum_features\u001b[0m\u001b[1;33m,\u001b[0m \u001b[0maccuracies\u001b[0m\u001b[1;33m,\u001b[0m \u001b[0mmarker\u001b[0m\u001b[1;33m=\u001b[0m\u001b[1;34m'o'\u001b[0m\u001b[1;33m)\u001b[0m\u001b[1;33m\u001b[0m\u001b[1;33m\u001b[0m\u001b[0m\n\u001b[0m\u001b[0;32m      4\u001b[0m \u001b[0mplt\u001b[0m\u001b[1;33m.\u001b[0m\u001b[0mtitle\u001b[0m\u001b[1;33m(\u001b[0m\u001b[1;34m'Accuracy vs. Number of Features Selected'\u001b[0m\u001b[1;33m)\u001b[0m\u001b[1;33m\u001b[0m\u001b[1;33m\u001b[0m\u001b[0m\n\u001b[0;32m      5\u001b[0m \u001b[0mplt\u001b[0m\u001b[1;33m.\u001b[0m\u001b[0mxlabel\u001b[0m\u001b[1;33m(\u001b[0m\u001b[1;34m'Number of Features'\u001b[0m\u001b[1;33m)\u001b[0m\u001b[1;33m\u001b[0m\u001b[1;33m\u001b[0m\u001b[0m\n",
      "\u001b[1;32m~\\anaconda3\\lib\\site-packages\\matplotlib\\pyplot.py\u001b[0m in \u001b[0;36mplot\u001b[1;34m(scalex, scaley, data, *args, **kwargs)\u001b[0m\n\u001b[0;32m   2767\u001b[0m \u001b[1;33m@\u001b[0m\u001b[0m_copy_docstring_and_deprecators\u001b[0m\u001b[1;33m(\u001b[0m\u001b[0mAxes\u001b[0m\u001b[1;33m.\u001b[0m\u001b[0mplot\u001b[0m\u001b[1;33m)\u001b[0m\u001b[1;33m\u001b[0m\u001b[1;33m\u001b[0m\u001b[0m\n\u001b[0;32m   2768\u001b[0m \u001b[1;32mdef\u001b[0m \u001b[0mplot\u001b[0m\u001b[1;33m(\u001b[0m\u001b[1;33m*\u001b[0m\u001b[0margs\u001b[0m\u001b[1;33m,\u001b[0m \u001b[0mscalex\u001b[0m\u001b[1;33m=\u001b[0m\u001b[1;32mTrue\u001b[0m\u001b[1;33m,\u001b[0m \u001b[0mscaley\u001b[0m\u001b[1;33m=\u001b[0m\u001b[1;32mTrue\u001b[0m\u001b[1;33m,\u001b[0m \u001b[0mdata\u001b[0m\u001b[1;33m=\u001b[0m\u001b[1;32mNone\u001b[0m\u001b[1;33m,\u001b[0m \u001b[1;33m**\u001b[0m\u001b[0mkwargs\u001b[0m\u001b[1;33m)\u001b[0m\u001b[1;33m:\u001b[0m\u001b[1;33m\u001b[0m\u001b[1;33m\u001b[0m\u001b[0m\n\u001b[1;32m-> 2769\u001b[1;33m     return gca().plot(\n\u001b[0m\u001b[0;32m   2770\u001b[0m         \u001b[1;33m*\u001b[0m\u001b[0margs\u001b[0m\u001b[1;33m,\u001b[0m \u001b[0mscalex\u001b[0m\u001b[1;33m=\u001b[0m\u001b[0mscalex\u001b[0m\u001b[1;33m,\u001b[0m \u001b[0mscaley\u001b[0m\u001b[1;33m=\u001b[0m\u001b[0mscaley\u001b[0m\u001b[1;33m,\u001b[0m\u001b[1;33m\u001b[0m\u001b[1;33m\u001b[0m\u001b[0m\n\u001b[0;32m   2771\u001b[0m         **({\"data\": data} if data is not None else {}), **kwargs)\n",
      "\u001b[1;32m~\\anaconda3\\lib\\site-packages\\matplotlib\\axes\\_axes.py\u001b[0m in \u001b[0;36mplot\u001b[1;34m(self, scalex, scaley, data, *args, **kwargs)\u001b[0m\n\u001b[0;32m   1630\u001b[0m         \"\"\"\n\u001b[0;32m   1631\u001b[0m         \u001b[0mkwargs\u001b[0m \u001b[1;33m=\u001b[0m \u001b[0mcbook\u001b[0m\u001b[1;33m.\u001b[0m\u001b[0mnormalize_kwargs\u001b[0m\u001b[1;33m(\u001b[0m\u001b[0mkwargs\u001b[0m\u001b[1;33m,\u001b[0m \u001b[0mmlines\u001b[0m\u001b[1;33m.\u001b[0m\u001b[0mLine2D\u001b[0m\u001b[1;33m)\u001b[0m\u001b[1;33m\u001b[0m\u001b[1;33m\u001b[0m\u001b[0m\n\u001b[1;32m-> 1632\u001b[1;33m         \u001b[0mlines\u001b[0m \u001b[1;33m=\u001b[0m \u001b[1;33m[\u001b[0m\u001b[1;33m*\u001b[0m\u001b[0mself\u001b[0m\u001b[1;33m.\u001b[0m\u001b[0m_get_lines\u001b[0m\u001b[1;33m(\u001b[0m\u001b[1;33m*\u001b[0m\u001b[0margs\u001b[0m\u001b[1;33m,\u001b[0m \u001b[0mdata\u001b[0m\u001b[1;33m=\u001b[0m\u001b[0mdata\u001b[0m\u001b[1;33m,\u001b[0m \u001b[1;33m**\u001b[0m\u001b[0mkwargs\u001b[0m\u001b[1;33m)\u001b[0m\u001b[1;33m]\u001b[0m\u001b[1;33m\u001b[0m\u001b[1;33m\u001b[0m\u001b[0m\n\u001b[0m\u001b[0;32m   1633\u001b[0m         \u001b[1;32mfor\u001b[0m \u001b[0mline\u001b[0m \u001b[1;32min\u001b[0m \u001b[0mlines\u001b[0m\u001b[1;33m:\u001b[0m\u001b[1;33m\u001b[0m\u001b[1;33m\u001b[0m\u001b[0m\n\u001b[0;32m   1634\u001b[0m             \u001b[0mself\u001b[0m\u001b[1;33m.\u001b[0m\u001b[0madd_line\u001b[0m\u001b[1;33m(\u001b[0m\u001b[0mline\u001b[0m\u001b[1;33m)\u001b[0m\u001b[1;33m\u001b[0m\u001b[1;33m\u001b[0m\u001b[0m\n",
      "\u001b[1;32m~\\anaconda3\\lib\\site-packages\\matplotlib\\axes\\_base.py\u001b[0m in \u001b[0;36m__call__\u001b[1;34m(self, data, *args, **kwargs)\u001b[0m\n\u001b[0;32m    310\u001b[0m                 \u001b[0mthis\u001b[0m \u001b[1;33m+=\u001b[0m \u001b[0margs\u001b[0m\u001b[1;33m[\u001b[0m\u001b[1;36m0\u001b[0m\u001b[1;33m]\u001b[0m\u001b[1;33m,\u001b[0m\u001b[1;33m\u001b[0m\u001b[1;33m\u001b[0m\u001b[0m\n\u001b[0;32m    311\u001b[0m                 \u001b[0margs\u001b[0m \u001b[1;33m=\u001b[0m \u001b[0margs\u001b[0m\u001b[1;33m[\u001b[0m\u001b[1;36m1\u001b[0m\u001b[1;33m:\u001b[0m\u001b[1;33m]\u001b[0m\u001b[1;33m\u001b[0m\u001b[1;33m\u001b[0m\u001b[0m\n\u001b[1;32m--> 312\u001b[1;33m             \u001b[1;32myield\u001b[0m \u001b[1;32mfrom\u001b[0m \u001b[0mself\u001b[0m\u001b[1;33m.\u001b[0m\u001b[0m_plot_args\u001b[0m\u001b[1;33m(\u001b[0m\u001b[0mthis\u001b[0m\u001b[1;33m,\u001b[0m \u001b[0mkwargs\u001b[0m\u001b[1;33m)\u001b[0m\u001b[1;33m\u001b[0m\u001b[1;33m\u001b[0m\u001b[0m\n\u001b[0m\u001b[0;32m    313\u001b[0m \u001b[1;33m\u001b[0m\u001b[0m\n\u001b[0;32m    314\u001b[0m     \u001b[1;32mdef\u001b[0m \u001b[0mget_next_color\u001b[0m\u001b[1;33m(\u001b[0m\u001b[0mself\u001b[0m\u001b[1;33m)\u001b[0m\u001b[1;33m:\u001b[0m\u001b[1;33m\u001b[0m\u001b[1;33m\u001b[0m\u001b[0m\n",
      "\u001b[1;32m~\\anaconda3\\lib\\site-packages\\matplotlib\\axes\\_base.py\u001b[0m in \u001b[0;36m_plot_args\u001b[1;34m(self, tup, kwargs, return_kwargs)\u001b[0m\n\u001b[0;32m    496\u001b[0m \u001b[1;33m\u001b[0m\u001b[0m\n\u001b[0;32m    497\u001b[0m         \u001b[1;32mif\u001b[0m \u001b[0mx\u001b[0m\u001b[1;33m.\u001b[0m\u001b[0mshape\u001b[0m\u001b[1;33m[\u001b[0m\u001b[1;36m0\u001b[0m\u001b[1;33m]\u001b[0m \u001b[1;33m!=\u001b[0m \u001b[0my\u001b[0m\u001b[1;33m.\u001b[0m\u001b[0mshape\u001b[0m\u001b[1;33m[\u001b[0m\u001b[1;36m0\u001b[0m\u001b[1;33m]\u001b[0m\u001b[1;33m:\u001b[0m\u001b[1;33m\u001b[0m\u001b[1;33m\u001b[0m\u001b[0m\n\u001b[1;32m--> 498\u001b[1;33m             raise ValueError(f\"x and y must have same first dimension, but \"\n\u001b[0m\u001b[0;32m    499\u001b[0m                              f\"have shapes {x.shape} and {y.shape}\")\n\u001b[0;32m    500\u001b[0m         \u001b[1;32mif\u001b[0m \u001b[0mx\u001b[0m\u001b[1;33m.\u001b[0m\u001b[0mndim\u001b[0m \u001b[1;33m>\u001b[0m \u001b[1;36m2\u001b[0m \u001b[1;32mor\u001b[0m \u001b[0my\u001b[0m\u001b[1;33m.\u001b[0m\u001b[0mndim\u001b[0m \u001b[1;33m>\u001b[0m \u001b[1;36m2\u001b[0m\u001b[1;33m:\u001b[0m\u001b[1;33m\u001b[0m\u001b[1;33m\u001b[0m\u001b[0m\n",
      "\u001b[1;31mValueError\u001b[0m: x and y must have same first dimension, but have shapes (14,) and (15,)"
     ]
    },
    {
     "data": {
      "image/png": "[encoded data removed]",
      "text/plain": [
       "<Figure size 1000x600 with 1 Axes>"
      ]
     },
     "metadata": {},
     "output_type": "display_data"
    }
   ],
   "source": [
    "# Plot the results to visualize the accuracy for different numbers of features\n",
    "plt.figure(figsize=(10, 6))\n",
    "plt.plot(num_features, accuracies, marker='o')\n",
    "plt.title('Accuracy vs. Number of Features Selected')\n",
    "plt.xlabel('Number of Features')\n",
    "plt.ylabel('Accuracy')\n",
    "plt.grid(True)\n",
    "plt.show()\n"
   ]
  },
  {
   "cell_type": "code",
   "execution_count": 25,
   "id": "c009da8a",
   "metadata": {},
   "outputs": [
    {
     "name": "stdout",
     "output_type": "stream",
     "text": [
      "Accuracy with top 1 features: 0.7373\n",
      "Accuracy with top 2 features: 0.9864\n",
      "Accuracy with top 3 features: 0.9864\n",
      "Accuracy with top 4 features: 0.9953\n",
      "Accuracy with top 5 features: 0.9974\n",
      "Accuracy with top 6 features: 0.9974\n",
      "Accuracy with top 7 features: 0.9972\n",
      "Accuracy with top 8 features: 0.9980\n",
      "Accuracy with top 9 features: 0.9981\n",
      "Accuracy with top 10 features: 0.9981\n",
      "Accuracy with top 11 features: 0.9982\n",
      "Accuracy with top 12 features: 0.9982\n",
      "Accuracy with top 13 features: 0.9982\n"
     ]
    },
    {
     "data": {
      "image/png": "[encoded data removed]",
      "text/plain": [
       "<Figure size 1000x600 with 1 Axes>"
      ]
     },
     "metadata": {},
     "output_type": "display_data"
    },
    {
     "name": "stdout",
     "output_type": "stream",
     "text": [
      "Best number of features: 12\n",
      "Confusion Matrix:\n",
      " [[17145    42]\n",
      " [    0  6589]]\n",
      "Accuracy: 0.9982335127860027\n",
      "Classification Report:\n",
      "               precision    recall  f1-score   support\n",
      "\n",
      "           0       1.00      1.00      1.00     17187\n",
      "           1       0.99      1.00      1.00      6589\n",
      "\n",
      "    accuracy                           1.00     23776\n",
      "   macro avg       1.00      1.00      1.00     23776\n",
      "weighted avg       1.00      1.00      1.00     23776\n",
      "\n"
     ]
    }
   ],
   "source": [
    "# Load the dataset\n",
    "dataset = pd.read_csv(\"cleaned_df_luxottica_churn_updated_0108.csv\", index_col=None)\n",
    "\n",
    "# Create a copy of the dataset for transformation\n",
    "dataset_transformed = pd.get_dummies(dataset, drop_first=True)\n",
    "\n",
    "# Separate features and target variable\n",
    "X = dataset_transformed.drop('Churn_Yes', axis=1)\n",
    "y = dataset_transformed['Churn_Yes']\n",
    "\n",
    "# Apply Min-Max scaling to ensure non-negative values\n",
    "min_max_scaler = MinMaxScaler()\n",
    "X_scaled = min_max_scaler.fit_transform(X)\n",
    "\n",
    "# Initialize lists to store results\n",
    "num_features = list(range(1, 14))  # Increment by 100 for efficiency\n",
    "accuracies = []\n",
    "\n",
    "# Loop through different numbers of features\n",
    "for k in num_features:\n",
    "    # Select top k features using Chi-Square\n",
    "    select_k_best = SelectKBest(score_func=chi2, k=k)\n",
    "    X_selected = select_k_best.fit_transform(X_scaled, y)\n",
    "\n",
    "    # Get the selected feature indices and names\n",
    "    selected_features_indices = select_k_best.get_support(indices=True)\n",
    "    selected_features = X.columns[selected_features_indices]\n",
    "\n",
    "    # Create the final feature dataset with selected features\n",
    "    X_final_selected = X[selected_features]\n",
    "    \n",
    "    # Apply Min-Max scaling to the selected features\n",
    "    X_scaled_selected = min_max_scaler.fit_transform(X_final_selected)\n",
    "\n",
    "    # Split the dataset into training and testing sets\n",
    "    X_train, X_test, y_train, y_test = train_test_split(X_scaled_selected, y, test_size=0.25, random_state=0)\n",
    "\n",
    "    # Apply SMOTE to the training data only\n",
    "    smote = SMOTE(random_state=0)\n",
    "    X_train_resampled, y_train_resampled = smote.fit_resample(X_train, y_train)\n",
    "\n",
    "    # Initialize and train the Random Forest classifier\n",
    "    classifier = RandomForestClassifier(random_state=0)\n",
    "    classifier.fit(X_train_resampled, y_train_resampled)\n",
    "\n",
    "    # Predict the test set results\n",
    "    y_pred = classifier.predict(X_test)\n",
    "\n",
    "    # Evaluate the model\n",
    "    accuracy = accuracy_score(y_test, y_pred)\n",
    "    accuracies.append(accuracy)\n",
    "    print(f'Accuracy with top {k} features: {accuracy:.4f}')\n",
    "\n",
    "# Plot the results to visualize the accuracy for different numbers of features\n",
    "plt.figure(figsize=(10, 6))\n",
    "plt.plot(num_features, accuracies, marker='o')\n",
    "plt.title('Accuracy vs. Number of Features Selected')\n",
    "plt.xlabel('Number of Features')\n",
    "plt.ylabel('Accuracy')\n",
    "plt.grid(True)\n",
    "plt.show()\n",
    "\n",
    "# Choose the best number of features based on the highest accuracy\n",
    "best_k = num_features[accuracies.index(max(accuracies))]\n",
    "print(f'Best number of features: {best_k}')\n",
    "\n",
    "# Select top features using Chi-Square with the best number of features\n",
    "select_k_best = SelectKBest(score_func=chi2, k=best_k)\n",
    "X_selected = select_k_best.fit_transform(X_scaled, y)\n",
    "\n",
    "# Get the selected feature indices and names\n",
    "selected_features_indices = select_k_best.get_support(indices=True)\n",
    "selected_features = X.columns[selected_features_indices]\n",
    "\n",
    "# Create the final feature dataset with selected features\n",
    "X_final_selected = X[selected_features]\n",
    "\n",
    "# Apply Min-Max scaling to the selected features\n",
    "X_scaled_selected = min_max_scaler.fit_transform(X_final_selected)\n",
    "\n",
    "# Split the dataset into training and testing sets\n",
    "X_train, X_test, y_train, y_test = train_test_split(X_scaled_selected, y, test_size=0.25, random_state=0)\n",
    "\n",
    "# Apply SMOTE to the training data only\n",
    "X_train_resampled, y_train_resampled = smote.fit_resample(X_train, y_train)\n",
    "\n",
    "# Initialize and train the Random Forest classifier\n",
    "classifier = RandomForestClassifier(random_state=0)\n",
    "classifier.fit(X_train_resampled, y_train_resampled)\n",
    "\n",
    "# Predict the test set results\n",
    "y_pred = classifier.predict(X_test)\n",
    "\n",
    "# Evaluate the model\n",
    "conf_matrix = confusion_matrix(y_test, y_pred)\n",
    "accuracy = accuracy_score(y_test, y_pred)\n",
    "class_report = classification_report(y_test, y_pred)\n",
    "\n",
    "# Display the results\n",
    "print(\"Confusion Matrix:\\n\", conf_matrix)\n",
    "print(\"Accuracy:\", accuracy)\n",
    "print(\"Classification Report:\\n\", class_report)"
   ]
  },
  {
   "cell_type": "code",
   "execution_count": 26,
   "id": "e5eb833f",
   "metadata": {},
   "outputs": [
    {
     "data": {
      "text/plain": [
       "Index(['Age', 'Price', 'Customer_Support_Interactions',\n",
       "       'Customer_Satisfaction', 'Purchase_Frequency', 'Lifetime_Value',\n",
       "       'Average_Order_Value', 'Number_of_Product_Categories_Purchased',\n",
       "       'Date_of_First_Purchase_2020-10-09',\n",
       "       'Loyalty_Program_Participation_Inactive',\n",
       "       'Engagement_with_Promotions_Low', 'Engagement_with_Promotions_Medium'],\n",
       "      dtype='object')"
      ]
     },
     "execution_count": 26,
     "metadata": {},
     "output_type": "execute_result"
    }
   ],
   "source": [
    "selected_features"
   ]
  },
  {
   "cell_type": "code",
   "execution_count": 27,
   "id": "f167626e",
   "metadata": {},
   "outputs": [
    {
     "data": {
      "text/plain": [
       "array([   0,    1,    3,    5,    6,   10,   11,   13, 2043, 3299, 3300,\n",
       "       3301], dtype=int64)"
      ]
     },
     "execution_count": 27,
     "metadata": {},
     "output_type": "execute_result"
    }
   ],
   "source": [
    "selected_features_indices"
   ]
  },
  {
   "cell_type": "code",
   "execution_count": 32,
   "id": "eb83b57c",
   "metadata": {},
   "outputs": [
    {
     "name": "stdout",
     "output_type": "stream",
     "text": [
      "Prediction result: [0]\n"
     ]
    },
    {
     "name": "stderr",
     "output_type": "stream",
     "text": [
      "C:\\Users\\AB92922\\anaconda3\\lib\\site-packages\\sklearn\\base.py:464: UserWarning: X does not have valid feature names, but MinMaxScaler was fitted with feature names\n",
      "  warnings.warn(\n"
     ]
    }
   ],
   "source": [
    "# Save the trained model to a file\n",
    "model_filename = \"finalized_model_random_forest.sav\"\n",
    "pickle.dump(classifier, open(model_filename, 'wb'))\n",
    "\n",
    "# Example input for prediction (use scaled values)\n",
    "example_input_unscaled = [[44, 2, 0.45, 4, 1200, 240.6, 1,1, 1, 0, 1,1]]\n",
    "example_input = min_max_scaler.transform(example_input_unscaled)\n",
    "\n",
    "# Load the saved model and make a prediction\n",
    "loaded_model = pickle.load(open(model_filename, 'rb'))\n",
    "prediction_result = loaded_model.predict(example_input)\n",
    "prediction_result = prediction_result.astype(int)\n",
    "\n",
    "print(\"Prediction result:\", prediction_result)\n"
   ]
  },
  {
   "cell_type": "code",
   "execution_count": 33,
   "id": "0f558ecb",
   "metadata": {},
   "outputs": [
    {
     "name": "stdout",
     "output_type": "stream",
     "text": [
      "Accuracy with top 1 features: 0.7373\n",
      "Accuracy with top 2 features: 0.9864\n",
      "Accuracy with top 3 features: 0.9864\n",
      "Accuracy with top 4 features: 0.9953\n",
      "Accuracy with top 5 features: 0.9974\n",
      "Accuracy with top 6 features: 0.9974\n",
      "Accuracy with top 7 features: 0.9972\n",
      "Accuracy with top 8 features: 0.9980\n",
      "Accuracy with top 9 features: 0.9981\n",
      "Accuracy with top 10 features: 0.9981\n",
      "Accuracy with top 11 features: 0.9982\n"
     ]
    },
    {
     "data": {
      "image/png": "[encoded data removed]",
      "text/plain": [
       "<Figure size 1000x600 with 1 Axes>"
      ]
     },
     "metadata": {},
     "output_type": "display_data"
    },
    {
     "name": "stdout",
     "output_type": "stream",
     "text": [
      "Best number of features: 11\n",
      "Confusion Matrix:\n",
      " [[17144    43]\n",
      " [    0  6589]]\n",
      "Accuracy: 0.9981914535666218\n",
      "Classification Report:\n",
      "               precision    recall  f1-score   support\n",
      "\n",
      "           0       1.00      1.00      1.00     17187\n",
      "           1       0.99      1.00      1.00      6589\n",
      "\n",
      "    accuracy                           1.00     23776\n",
      "   macro avg       1.00      1.00      1.00     23776\n",
      "weighted avg       1.00      1.00      1.00     23776\n",
      "\n"
     ]
    }
   ],
   "source": [
    "# Load the dataset\n",
    "dataset = pd.read_csv(\"cleaned_df_luxottica_churn_updated_0108.csv\", index_col=None)\n",
    "\n",
    "# Create a copy of the dataset for transformation\n",
    "dataset_transformed = pd.get_dummies(dataset, drop_first=True)\n",
    "\n",
    "# Separate features and target variable\n",
    "X = dataset_transformed.drop('Churn_Yes', axis=1)\n",
    "y = dataset_transformed['Churn_Yes']\n",
    "\n",
    "# Apply Min-Max scaling to ensure non-negative values\n",
    "min_max_scaler = MinMaxScaler()\n",
    "X_scaled = min_max_scaler.fit_transform(X)\n",
    "\n",
    "# Initialize lists to store results\n",
    "num_features = list(range(1, 12))  \n",
    "accuracies = []\n",
    "\n",
    "# Loop through different numbers of features\n",
    "for k in num_features:\n",
    "    # Select top k features using Chi-Square\n",
    "    select_k_best = SelectKBest(score_func=chi2, k=k)\n",
    "    X_selected = select_k_best.fit_transform(X_scaled, y)\n",
    "\n",
    "    # Get the selected feature indices and names\n",
    "    selected_features_indices = select_k_best.get_support(indices=True)\n",
    "    selected_features = X.columns[selected_features_indices]\n",
    "\n",
    "    # Create the final feature dataset with selected features\n",
    "    X_final_selected = X[selected_features]\n",
    "    \n",
    "    # Apply Min-Max scaling to the selected features\n",
    "    X_scaled_selected = min_max_scaler.fit_transform(X_final_selected)\n",
    "\n",
    "    # Split the dataset into training and testing sets\n",
    "    X_train, X_test, y_train, y_test = train_test_split(X_scaled_selected, y, test_size=0.25, random_state=0)\n",
    "\n",
    "    # Apply SMOTE to the training data only\n",
    "    smote = SMOTE(random_state=0)\n",
    "    X_train_resampled, y_train_resampled = smote.fit_resample(X_train, y_train)\n",
    "\n",
    "    # Initialize and train the Random Forest classifier\n",
    "    classifier = RandomForestClassifier(random_state=0)\n",
    "    classifier.fit(X_train_resampled, y_train_resampled)\n",
    "\n",
    "    # Predict the test set results\n",
    "    y_pred = classifier.predict(X_test)\n",
    "\n",
    "    # Evaluate the model\n",
    "    accuracy = accuracy_score(y_test, y_pred)\n",
    "    accuracies.append(accuracy)\n",
    "    print(f'Accuracy with top {k} features: {accuracy:.4f}')\n",
    "\n",
    "# Plot the results to visualize the accuracy for different numbers of features\n",
    "plt.figure(figsize=(10, 6))\n",
    "plt.plot(num_features, accuracies, marker='o')\n",
    "plt.title('Accuracy vs. Number of Features Selected')\n",
    "plt.xlabel('Number of Features')\n",
    "plt.ylabel('Accuracy')\n",
    "plt.grid(True)\n",
    "plt.show()\n",
    "\n",
    "# Choose the best number of features based on the highest accuracy\n",
    "best_k = num_features[accuracies.index(max(accuracies))]\n",
    "print(f'Best number of features: {best_k}')\n",
    "\n",
    "# Select top features using Chi-Square with the best number of features\n",
    "select_k_best = SelectKBest(score_func=chi2, k=best_k)\n",
    "X_selected = select_k_best.fit_transform(X_scaled, y)\n",
    "\n",
    "# Get the selected feature indices and names\n",
    "selected_features_indices = select_k_best.get_support(indices=True)\n",
    "selected_features = X.columns[selected_features_indices]\n",
    "\n",
    "# Create the final feature dataset with selected features\n",
    "X_final_selected = X[selected_features]\n",
    "\n",
    "# Apply Min-Max scaling to the selected features\n",
    "X_scaled_selected = min_max_scaler.fit_transform(X_final_selected)\n",
    "\n",
    "# Split the dataset into training and testing sets\n",
    "X_train, X_test, y_train, y_test = train_test_split(X_scaled_selected, y, test_size=0.25, random_state=0)\n",
    "\n",
    "# Apply SMOTE to the training data only\n",
    "X_train_resampled, y_train_resampled = smote.fit_resample(X_train, y_train)\n",
    "\n",
    "# Initialize and train the Random Forest classifier\n",
    "classifier = RandomForestClassifier(random_state=0)\n",
    "classifier.fit(X_train_resampled, y_train_resampled)\n",
    "\n",
    "# Predict the test set results\n",
    "y_pred = classifier.predict(X_test)\n",
    "\n",
    "# Evaluate the model\n",
    "conf_matrix = confusion_matrix(y_test, y_pred)\n",
    "accuracy = accuracy_score(y_test, y_pred)\n",
    "class_report = classification_report(y_test, y_pred)\n",
    "\n",
    "# Display the results\n",
    "print(\"Confusion Matrix:\\n\", conf_matrix)\n",
    "print(\"Accuracy:\", accuracy)\n",
    "print(\"Classification Report:\\n\", class_report)"
   ]
  },
  {
   "cell_type": "code",
   "execution_count": 43,
   "id": "78991dda",
   "metadata": {},
   "outputs": [
    {
     "name": "stdout",
     "output_type": "stream",
     "text": [
      "Selected features: Index(['Age', 'Price', 'Customer_Support_Interactions',\n",
      "       'Customer_Satisfaction', 'Purchase_Frequency', 'Lifetime_Value',\n",
      "       'Average_Order_Value', 'Number_of_Product_Categories_Purchased',\n",
      "       'Loyalty_Program_Participation_Inactive',\n",
      "       'Engagement_with_Promotions_Low', 'Engagement_with_Promotions_Medium'],\n",
      "      dtype='object')\n"
     ]
    }
   ],
   "source": [
    "print(\"Selected features:\",selected_features )"
   ]
  },
  {
   "cell_type": "code",
   "execution_count": 44,
   "id": "77fff1c0",
   "metadata": {},
   "outputs": [
    {
     "name": "stdout",
     "output_type": "stream",
     "text": [
      "Selected features indices: [   0    1    3    5    6   10   11   13 3299 3300 3301]\n"
     ]
    }
   ],
   "source": [
    "print(\"Selected features indices:\",selected_features_indices )"
   ]
  },
  {
   "cell_type": "code",
   "execution_count": 40,
   "id": "99c33a22",
   "metadata": {},
   "outputs": [
    {
     "data": {
      "text/plain": [
       "Index(['Age', 'Price', 'Customer_Support_Interactions',\n",
       "       'Customer_Satisfaction', 'Purchase_Frequency', 'Lifetime_Value',\n",
       "       'Average_Order_Value', 'Number_of_Product_Categories_Purchased',\n",
       "       'Loyalty_Program_Participation_Inactive',\n",
       "       'Engagement_with_Promotions_Low', 'Engagement_with_Promotions_Medium'],\n",
       "      dtype='object')"
      ]
     },
     "execution_count": 40,
     "metadata": {},
     "output_type": "execute_result"
    }
   ],
   "source": [
    "selected_features"
   ]
  },
  {
   "cell_type": "code",
   "execution_count": 45,
   "id": "42e1ea4e",
   "metadata": {},
   "outputs": [
    {
     "name": "stdout",
     "output_type": "stream",
     "text": [
      "Prediction result: [1]\n"
     ]
    },
    {
     "name": "stderr",
     "output_type": "stream",
     "text": [
      "C:\\Users\\AB92922\\anaconda3\\lib\\site-packages\\sklearn\\base.py:464: UserWarning: X does not have valid feature names, but MinMaxScaler was fitted with feature names\n",
      "  warnings.warn(\n"
     ]
    }
   ],
   "source": [
    "# Save the trained model to a file\n",
    "model_filename = \"finalized_model_random_forest.sav\"\n",
    "pickle.dump(classifier, open(model_filename, 'wb'))\n",
    "\n",
    "# Example input for prediction (use scaled values)\n",
    "example_input_unscaled = [[73, 502, 8, 7.9, 4, 6453.23,220, 1, 1, 1, 1]]\n",
    "example_input = min_max_scaler.transform(example_input_unscaled)\n",
    "\n",
    "# Load the saved model and make a prediction\n",
    "loaded_model = pickle.load(open(model_filename, 'rb'))\n",
    "prediction_result = loaded_model.predict(example_input)\n",
    "prediction_result = prediction_result.astype(int)\n",
    "\n",
    "print(\"Prediction result:\", prediction_result)"
   ]
  },
  {
   "cell_type": "code",
   "execution_count": null,
   "id": "b0a8c6b3",
   "metadata": {},
   "outputs": [],
   "source": []
  }
 ],
 "metadata": {
  "kernelspec": {
   "display_name": "Python 3 (ipykernel)",
   "language": "python",
   "name": "python3"
  },
  "language_info": {
   "codemirror_mode": {
    "name": "ipython",
    "version": 3
   },
   "file_extension": ".py",
   "mimetype": "text/x-python",
   "name": "python",
   "nbconvert_exporter": "python",
   "pygments_lexer": "ipython3",
   "version": "3.9.13"
  }
 },
 "nbformat": 4,
 "nbformat_minor": 5
}
